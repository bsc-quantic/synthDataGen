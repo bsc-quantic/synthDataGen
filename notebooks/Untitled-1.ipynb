{
 "cells": [
  {
   "attachments": {},
   "cell_type": "markdown",
   "metadata": {},
   "source": [
    "# First example"
   ]
  },
  {
   "cell_type": "code",
   "execution_count": 1,
   "metadata": {},
   "outputs": [],
   "source": [
    "# EXECUTE THIS CELL ONLY THE FIRST TIME!!\n",
    "import os\n",
    "os.chdir(\"..\")"
   ]
  },
  {
   "cell_type": "code",
   "execution_count": 2,
   "metadata": {},
   "outputs": [
    {
     "data": {
      "text/plain": [
       "2007"
      ]
     },
     "execution_count": 2,
     "metadata": {},
     "output_type": "execute_result"
    }
   ],
   "source": [
    "from synthDataGen.controller import DataControllerESIOS\n",
    "\n",
    "dc = DataControllerESIOS(\"inputParams.json\", \"./synthDataGen/settings/\")\n",
    "\n",
    "dc.initialYear"
   ]
  },
  {
   "cell_type": "code",
   "execution_count": null,
   "metadata": {},
   "outputs": [],
   "source": [
    "import os\n",
    "os.getcwd()"
   ]
  },
  {
   "cell_type": "code",
   "execution_count": null,
   "metadata": {},
   "outputs": [],
   "source": [
    "a = None\n",
    "if not a:\n",
    "    print(\"hey\")"
   ]
  },
  {
   "cell_type": "code",
   "execution_count": null,
   "metadata": {},
   "outputs": [],
   "source": [
    "import pandas as pd\n",
    "mes = pd.date_range('01-1972', '03-1972', freq='H')\n",
    "datos = list(range(1, len(mes) + 1, 1))\n",
    "datos2 = [i*2 for i in datos]\n",
    "\n",
    "df = pd.DataFrame(list(zip(mes, datos, datos2)), columns=['mes', 'uno', 'dos'])\n",
    "df.set_index(['mes'], inplace=True)\n",
    "\n",
    "df.head(20)"
   ]
  },
  {
   "cell_type": "code",
   "execution_count": null,
   "metadata": {},
   "outputs": [],
   "source": [
    "primerValor = df.index[0]\n",
    "ultimoValor = df.index[-1] \n",
    "sampleoCHAR = str(90) + 'min'\n",
    "sampleoDeseado = pd.date_range(primerValor, ultimoValor, freq=sampleoCHAR)\n",
    "\n",
    "print(str(primerValor) + \" \" + str(ultimoValor) + \" \" + (sampleoCHAR) + \" \" + str(sampleoDeseado))"
   ]
  },
  {
   "cell_type": "code",
   "execution_count": null,
   "metadata": {},
   "outputs": [],
   "source": [
    "df = df.reindex(df.index.union(sampleoDeseado))\n",
    "df.head(20)"
   ]
  },
  {
   "cell_type": "code",
   "execution_count": null,
   "metadata": {},
   "outputs": [],
   "source": [
    "df = df.interpolate(method=\"linear\", order=2)\n",
    "df.head(20)"
   ]
  },
  {
   "attachments": {},
   "cell_type": "markdown",
   "metadata": {},
   "source": [
    "# Second example"
   ]
  },
  {
   "cell_type": "code",
   "execution_count": null,
   "metadata": {},
   "outputs": [],
   "source": [
    "from __future__ import division\n",
    "import pandas as pd\n",
    "from datetime import datetime, timedelta\n",
    "import numpy as np\n",
    "import matplotlib.pyplot as plt\n",
    " \n",
    "\n",
    "from bibliotecaEsios import BajadaDatosESIOS\n",
    "import bibliotecaGeneral as zsan"
   ]
  },
  {
   "cell_type": "code",
   "execution_count": null,
   "metadata": {},
   "outputs": [],
   "source": [
    "try:\n",
    "   from ficheroDeClaves import CLAVEdeESIOS\n",
    "   id_SFP = CLAVEdeESIOS\n",
    "except:\n",
    "    cadenaError = '\\n '\n",
    "    cadenaError = '\\n Con objeto de que el código sea lo más \"privado\" posible'\n",
    "    cadenaError += '\\n para ser ejecutado en modo demo '\n",
    "    cadenaError += '\\n crear un fichero llamado ficheroDeClaves.py'\n",
    "    cadenaError += '\\n y dentro del mismo definir la variable CLAVEdeESIOS = el ID que se posea para consultas ESIOS'\n",
    "    raise Exception(cadenaError) \n"
   ]
  },
  {
   "cell_type": "code",
   "execution_count": null,
   "metadata": {},
   "outputs": [],
   "source": [
    "horasAdelante = 10\n",
    "frecuenciaSampleoMinutos = 15\n",
    "\n",
    "\n",
    "AGNOINICIALCALCULOS = 2007\n",
    "\n",
    "diccionarioAgnoIPC = {   # EN TANTO POR CIENTO\n",
    "    \"2022\": 10,\n",
    "    \"2021\": 10,    \n",
    "    \"2020\": 10,    \n",
    "    \"2019\": 10,    \n",
    "    \"2018\": 10,    \n",
    "    \"2017\": 10,    \n",
    "    \"2016\": 10,\n",
    "    \"2015\": 10,    \n",
    "    \"2014\": 10,\n",
    "    \"2013\": 10,    \n",
    "    \"2012\": 10,    \n",
    "    \"2011\": 10,\n",
    "    \"2010\": 10,\n",
    "    \"2009\": 10,\n",
    "    \"2008\": 10,    \n",
    "    \"2007\": 10    \n",
    "       }\n",
    "\n",
    "# A revisión\n",
    "time_trunc = 'hours'  # Este es el parámetro de llamada de la función encontrada para interacción ESIOS\n",
    "ordenSpline = 2"
   ]
  },
  {
   "cell_type": "code",
   "execution_count": null,
   "metadata": {},
   "outputs": [],
   "source": [
    "# Pseudoconstantes\n",
    "ahora = datetime.now()\n",
    "minutoDesde = ahora.minute\n",
    "horaDesde  = ahora.hour\n",
    "diaDesde  = ahora.day\n",
    "mesDesde  = ahora.month\n",
    "agnoActual = ahora.year\n",
    "\n",
    "listaAgnos = list(range(AGNOINICIALCALCULOS, agnoActual))"
   ]
  },
  {
   "cell_type": "code",
   "execution_count": null,
   "metadata": {},
   "outputs": [],
   "source": [
    "# Primera columna del dataframe de salida\n",
    "inicio = datetime(AGNOINICIALCALCULOS, mesDesde, diaDesde, horaDesde, minutoDesde)       \n",
    "hasta  = inicio + timedelta(hours=horasAdelante)\n",
    "\n",
    "print(\"inicio: \" + str(inicio) + \" - hasta: \" + str(hasta))\n",
    "\n",
    "a =  BajadaDatosESIOS(id_SFP)\n",
    "df = a.dataframe_lista_de_indicadores_de_esios_por_fechas([10211], inicio, hasta, time_trunc=time_trunc,\n",
    "                                                         inlcuye29DeFebrero = '')\n",
    "df = df.filter(['value'], axis=1)\n",
    "\n",
    "df = df.rename(columns={'value': str(AGNOINICIALCALCULOS)})\n",
    "df"
   ]
  },
  {
   "cell_type": "code",
   "execution_count": null,
   "metadata": {},
   "outputs": [],
   "source": [
    "### 2 de 2: Cambiamos el año del indice, desde el primer año de la serie histórica al año acutal\n",
    "df.index = df.index + pd.offsets.DateOffset(years=agnoActual - AGNOINICIALCALCULOS)\n",
    "df"
   ]
  },
  {
   "cell_type": "code",
   "execution_count": null,
   "metadata": {},
   "outputs": [],
   "source": [
    "for agno in range(AGNOINICIALCALCULOS + 1, agnoActual):\n",
    "    inicio = datetime(agno, mesDesde, diaDesde, horaDesde, minutoDesde)      # desde comienzo del día\n",
    "    hasta  = inicio + timedelta(hours=horasAdelante)\n",
    "    aux = a.dataframe_lista_de_indicadores_de_esios_por_fechas([10211], inicio, hasta, \n",
    "                                                        time_trunc=time_trunc, inlcuye29DeFebrero = '') \n",
    "    df[str(agno)] = list(aux['value'])"
   ]
  },
  {
   "cell_type": "code",
   "execution_count": null,
   "metadata": {},
   "outputs": [],
   "source": [
    "dicionarioCorreccionIPC = zsan.calculaCorrecionDePreciosPorIPC(diccionarioAgnoIPC)\n",
    "dicionarioCorreccionIPC"
   ]
  },
  {
   "cell_type": "code",
   "execution_count": null,
   "metadata": {},
   "outputs": [],
   "source": [
    "# Con los objetos que estamos manejando, la operación es trivial\n",
    "for elemento in df.columns:\n",
    "    df[elemento] = df[elemento] * dicionarioCorreccionIPC[elemento]\n",
    "df"
   ]
  },
  {
   "cell_type": "code",
   "execution_count": null,
   "metadata": {},
   "outputs": [],
   "source": [
    "type(min([\"2004\", \"1998\"]))"
   ]
  },
  {
   "cell_type": "code",
   "execution_count": null,
   "metadata": {},
   "outputs": [],
   "source": [
    "print('DataFrame se resamplea a ', frecuenciaSampleoMinutos, ' minutos')\n",
    "df = zsan.resampleaDataFrame(df, frecuenciaSampleoMinutos, method='polynomial', order=ordenSpline)"
   ]
  },
  {
   "cell_type": "code",
   "execution_count": null,
   "metadata": {},
   "outputs": [],
   "source": [
    "df.head(10)"
   ]
  }
 ],
 "metadata": {
  "kernelspec": {
   "display_name": "Python 3 (ipykernel)",
   "language": "python",
   "name": "python3"
  },
  "language_info": {
   "codemirror_mode": {
    "name": "ipython",
    "version": 3
   },
   "file_extension": ".py",
   "mimetype": "text/x-python",
   "name": "python",
   "nbconvert_exporter": "python",
   "pygments_lexer": "ipython3",
   "version": "3.10.7"
  },
  "orig_nbformat": 4
 },
 "nbformat": 4,
 "nbformat_minor": 2
}
