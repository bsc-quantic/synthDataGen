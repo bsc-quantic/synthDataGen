{
 "cells": [
  {
   "attachments": {},
   "cell_type": "markdown",
   "id": "efd06a7c",
   "metadata": {},
   "source": [
    "#  Version punto CERO estimación precio energía "
   ]
  },
  {
   "attachments": {},
   "cell_type": "markdown",
   "id": "4baf8e0e",
   "metadata": {},
   "source": [
    "- Con este código puede obtenerse serie histórica de precios accesible en ESIOS (https://www.esios.ree.es/en).   \n",
    "- Se precisa un ID de ESIOS. \n",
    "- En aras de confidencialidad, se asume que se ha creado un fichero de nombre ficheroDeClaves.py y dentro del mismo se ha definido la variable CLAVEdeESIOS = el ID que se posea para consultas ESIOS \n",
    "- En realidad, este notebook es \"sencillo\", la lógica está en las bibliotecas: bibliotecaEsios y bibliotecaGeneral  \n",
    "- IMPORTANTE: Todas las horas en UTC. \n",
    "- 29 de febero de años previos, excluidos de los cálculos (ver Descripción elemental de funcionamiento)\n",
    "\n",
    "***DESCRIPCIÓN ELEMENTAL DE FUNCIONAMIENTO:***\n",
    "  \n",
    "- el usuario selecciona (VER SECCIÓN PARÁMETROS de este NOTEBOOK)\n",
    "    - un ***HASTA*** en horas\n",
    "    - la ***FRECUENCIA*** con la que se desea la estimación de precios (EN MINUTOS)\n",
    "    - un ***año desde*** ==> primer año que se consideran valores para tener en cuenta datos históricos\n",
    "    - una ***tabla de IPC intraanual*** (en porcentaje) que comprende el año \"desde\" hasta \"año actual\" menos 1. ***Nota: no es preciso que se corresponda con una tabla con el IPC anual: podría ser un indice tipo \"tasa anual incremento energético\"- potencialmente calculable adhoc en \"sesiones de modelización\"- e incluso podria ponderar, además del indice de incremento de la energia, la \"importancia relativa de años anteriores en la estimación de valores futuros (en definitva, que actuase como un factor que corrige la importancia relativa de años anteriores en la determinación de la predicción)***\n",
    "- el usuarios lanza el programa \"ahora\" (en UTC)\n",
    "\n",
    "***SECUENCIA DE CRITERIOS PARA LA DETERMINACIÓN DE PREVISIÓN DE PRECIOS:***\n",
    "- se consulta en Esios los valores de precio de la energía para cada fecha/hora de los años anteriores (rango de años = (año desde, año pasado) correspondiente al horizonte de estimación. ***pte VERIFICAR: se asume que la info está sampleada cada hora para el ID que se ha utilizado***\n",
    "A modo de ejemplo: \n",
    "hoy es 25 de Julio de 2000 y son las 11:48\n",
    "se selecciona:\n",
    "    - ***HASTA***: 2 horas \n",
    "    - ***FRECUENCIA***: 15 minutos\n",
    "    - ***año desde***: 1995\n",
    "    - se carga en la ***tabla de IPC*** la mejor estimación del usuario.\n",
    "\n",
    "Se lanza el programa y: \n",
    "\n",
    "1.- se construye la tabla ***(!!! datos ficticios + tabla simplificada !!!!)*** hora actual + \"hasta\"\n",
    "\n",
    "| hora | 1995 | 1996 | 1997 | 1998 | 1999 | 2000 |  \n",
    "| :- |:- | :- |:- |:- | :- |:- | \n",
    "| 12:00 | 10  | 11 |  12 | 13 | 12.4 |  13.34  \n",
    "| 13:00 | 11  | 12 |  13 | 15 | 14.4 |  13.34  \n",
    "| 14:00 | 12  | 13 |  14 | 16 | 15.4 |  13.34  \n",
    "\n",
    "\n",
    "2.- Se resamplea (por spline de un orden a determinar por programador) a FRECUENCIA en minutos\n",
    "***(!!! datos ficticios + tabla simplificada  !!!!)***\n",
    "\n",
    "| hora | 1995 | 1996 | 1997 | 1998 | 1999 | 2000 |  \n",
    "| :- |:- | :- |:- |:- | :- |:- | \n",
    "| 12:00 | 10  | 11 |  12 | 13 | 12,4 |  13.34  \n",
    "| 12:15 | 10  | 11 |  12 | 13 | 12,4 |  13.34  \n",
    "| 12:30 | 10  | 11 |  12 | 13 | 12,4 |  13.34  \n",
    "| 12:45 | 10  | 11 |  12 | 13 | 12,4 |  13.34  \n",
    "| 13:00 | 11  | 12 |  13 | 15 | 14,4 |  13.34 \n",
    "| 13:15 | 11  | 12 |  13 | 15 | 14,4 |  13.34 \n",
    "| 13:30 | 11  | 12 |  13 | 15 | 14,4 |  13.34 \n",
    "| 13:45 | 11  | 12 |  13 | 15 | 14,4 |  13.34 \n",
    "| 14:00 | 12  | 13 |  14 | 16 | 15,4 |  13.34  \n",
    "\n",
    "3.- Para cada reigistro: se actualiza su importe teniendo en cuenta el IPC  **recordar: el IPC puede ser un factor de correción de precio de la energía y/o factor peso importancia relativa***\n",
    "\n",
    "| hora | 1995 | 1996 | 1997 | 1998 | 1999 | 2000 |  \n",
    "| :- |:- | :- |:- |:- | :- |:- | \n",
    "| 12:00 | 11.3  | 12.45 |  12.98 | 13.34 | 12,4 |  13.34  \n",
    "| 12:15 | 14.8  | 8.98 |  12.76 | 13 | 12,4 |  13.34  \n",
    "| etc | etc | etc | etc | etc | etc | etc |  \n",
    "\n"
   ]
  },
  {
   "attachments": {},
   "cell_type": "markdown",
   "id": "ef7eddee",
   "metadata": {},
   "source": [
    " "
   ]
  },
  {
   "attachments": {},
   "cell_type": "markdown",
   "id": "db936a49",
   "metadata": {},
   "source": [
    "# To DO"
   ]
  },
  {
   "attachments": {},
   "cell_type": "markdown",
   "id": "d5f566bc",
   "metadata": {},
   "source": [
    "- Revisar la clase ***BajadaDatosESIOS*** con alguien con experiencia ***¿Artur?*** \n",
    "    - En general verificar si merece la pena conservar la clase definida en bibliotecaEsios para interacción con ESIOS o bien utilizar alguna otra más standarizada\n",
    "    - El \"ID\" que ha de utilizarse para recuperar el precio de la Energía ¿correcto el tomado aquí ? \n",
    "    - Verificar que para el ID de punto anterior, su sample rate es realmente CADA HORA u otro + lo que es \"peor\", el sample rate cambia entre años ==> ***IMPORTANTE*** inicialmente sin impacto en la rutina de resampleo  \n",
    "    - El parámetro de llamada \"time_trunc\"  ==> ***¿Artur?***\n",
    "   \n",
    "   \n",
    "- Encontrar una tabla de evolución IPC de confianza y apuntar referencia. Alternativamente, podría utilizarse otro indice de corrección de precios más específico para energía o en su caso, otro valor determinado por usuarios que tenga en cuenta incluso el peso relativo de cada año  \n",
    "\n",
    "- Pruebas por terceros\n",
    "\n",
    "- Adicionalmente: Si se precisase que este programa formase parte de un WF que estuviera dentro de recursos de BSC, y dado que este programa exige conectarse a ESIOS (RECUERDESE que desde BSC no se puede acceder a ESIOS), la versión actual del programa podría ser muy facilmente adaptada para correr en BSC: \n",
    "\n",
    "  \n",
    "- ***VERSIONES MÁS AVANZADAS***:   \n",
    "    - En esta versión, la serie histórica misma día/hora otros años, se toma como base para el pronóstico del precio. Podríamos crear estrategias basadas en que la media es función de un número dado de horas previas DE ESTE AÑO y la varianza si función de la seria histórica Y/O pesada con valores recientes\n",
    "    - Podria introducirse un \"delta\" en cada time step tipo lineal con t a partri del valor actual: por ejemplo: varianzaNeo = varianzaActual + factor(diferenciaDe_t_RespectoTiempoActula) * DElTA T, con objeto de introducir la heterocedasticidad de la serie \n",
    "    - Red bayesiana ???\n",
    "- ***SFP*** ¡¡¡ tratamiento elemental con funcional data analysis  !!!!\n",
    "\n",
    "- Adicionalmente, para un tratamiento de \"toda la vida\":\n",
    "    - https://www.cienciadedatos.net/documentos/py27-forecasting-series-temporales-python-scikitlearn.html\n",
    " "
   ]
  },
  {
   "cell_type": "code",
   "execution_count": null,
   "id": "abd197f0",
   "metadata": {},
   "outputs": [],
   "source": [
    "from __future__ import division\n",
    "import pandas as pd\n",
    "from datetime import datetime, timedelta\n",
    "import numpy as np\n",
    "import matplotlib.pyplot as plt\n",
    " \n",
    "\n",
    "from bibliotecaEsios import BajadaDatosESIOS\n",
    "import bibliotecaGeneral as zsan"
   ]
  },
  {
   "attachments": {},
   "cell_type": "markdown",
   "id": "8e36c568",
   "metadata": {},
   "source": [
    "# Chequeo preliminar\n",
    "Como queda indicado, en aras de protección, se asume que existe en el directorio donde está este notebook un fichero denominado: ficheroDeClaves.py en cuyo interior existe una única clave: CLAVEdeESIOS = el id del usario"
   ]
  },
  {
   "cell_type": "code",
   "execution_count": null,
   "id": "4924ab3f",
   "metadata": {},
   "outputs": [],
   "source": [
    "try:\n",
    "   from ficheroDeClaves import CLAVEdeESIOS\n",
    "   id_SFP = CLAVEdeESIOS\n",
    "except:\n",
    "    cadenaError = '\\n '\n",
    "    cadenaError = '\\n Con objeto de que el código sea lo más \"privado\" posible'\n",
    "    cadenaError += '\\n para ser ejecutado en modo demo '\n",
    "    cadenaError += '\\n crear un fichero llamado ficheroDeClaves.py'\n",
    "    cadenaError += '\\n y dentro del mismo definir la variable CLAVEdeESIOS = el ID que se posea para consultas ESIOS'\n",
    "    raise Exception(cadenaError) \n"
   ]
  },
  {
   "attachments": {},
   "cell_type": "markdown",
   "id": "42a94788",
   "metadata": {},
   "source": [
    "# Parámetros"
   ]
  },
  {
   "cell_type": "code",
   "execution_count": null,
   "id": "06e7c7fe",
   "metadata": {},
   "outputs": [],
   "source": [
    "horasAdelante = 10\n",
    "frecuenciaSampleoMinutos = 15\n",
    "\n",
    "\n",
    "AGNOINICIALCALCULOS = 2007\n",
    "\n",
    "diccionarioAgnoIPC = {   # EN TANTO POR CIENTO\n",
    "    2022: 10,\n",
    "    2021: 10,    \n",
    "    2020: 10,    \n",
    "    2019: 10,    \n",
    "    2018: 10,    \n",
    "    2017: 10,    \n",
    "    2016: 10,\n",
    "    2015: 10,    \n",
    "    2014: 10,\n",
    "    2013: 10,    \n",
    "    2012: 10,    \n",
    "    2011: 10,\n",
    "    2010: 10,\n",
    "    2009: 10,\n",
    "    2008: 10,    \n",
    "    2007: 10    \n",
    "       }\n",
    "\n",
    "# A revisión\n",
    "time_trunc = 'hours'  # Este es el parámetro de llamada de la función encontrada para interacción ESIOS\n",
    "ordenSpline = 2"
   ]
  },
  {
   "attachments": {},
   "cell_type": "markdown",
   "id": "48b89afa",
   "metadata": {},
   "source": [
    "# Pseudoconstantes"
   ]
  },
  {
   "cell_type": "code",
   "execution_count": null,
   "id": "5deff04e",
   "metadata": {},
   "outputs": [],
   "source": [
    "# Pseudoconstantes\n",
    "ahora = datetime.now()\n",
    "minutoDesde = ahora.minute\n",
    "horaDesde  = ahora.hour\n",
    "diaDesde  = ahora.day\n",
    "mesDesde  = ahora.month\n",
    "agnoActual = ahora.year\n",
    "\n",
    "listaAgnos = list(range(AGNOINICIALCALCULOS, agnoActual))"
   ]
  },
  {
   "attachments": {},
   "cell_type": "markdown",
   "id": "9491e6ba",
   "metadata": {},
   "source": [
    "# Chequeo: congruencia dic de IPC VS años base cálculo\n",
    "Es importante verificar que para todo el rango de años considerados en el calculo (el rango de años comprendidos entre AGNOINICIALCALCULOS y agnoActual), está alimentado el diccionario de IPC's -diccionarioAgnoIPC-"
   ]
  },
  {
   "cell_type": "code",
   "execution_count": null,
   "id": "bffa7e44",
   "metadata": {},
   "outputs": [],
   "source": [
    "aux1 = [str(key) for key, value in diccionarioAgnoIPC.items()]\n",
    "setAgnosEnDiccionarioIPC = sorted(set(aux1))\n",
    "aux2 = [str(agno) for agno in range(AGNOINICIALCALCULOS, agnoActual)]\n",
    "setRangoAgnosPrecisosParaCalculos = sorted(set(aux2))\n",
    "\n",
    "if setRangoAgnosPrecisosParaCalculos != setAgnosEnDiccionarioIPC: \n",
    "    a =   'Revisar la definición de: \\n'\n",
    "    a +=  '        - diccionarioAgnoIPC \\n'\n",
    "    a +=  '       - y el parámetro AGNOINICIALCALCULOS \\n\\n'\n",
    "    a +=  'CONTENIDO DE diccionarioAgnoIPC \\n'\n",
    "    a +=  ', '.join(setAgnosEnDiccionarioIPC)\n",
    "    a +=  '\\n\\n'\n",
    "    a +=  'Recordar que AGNOINICIALCALCULOS ha sido asignado a   ' + str(AGNOINICIALCALCULOS) + ' \\n'\n",
    "    a +=  '             AÑO FINAL CALCULOS (AÑO ACTUAL MENOS 1 ) ' + str(agnoActual - 1) + ' \\n\\n\\n'\n",
    "    a +=  ' ¡¡¡ AMBOS CONJUNTOS HAN DE COINCIDIR !!!'\n",
    "    raise Exception(a)"
   ]
  },
  {
   "attachments": {},
   "cell_type": "markdown",
   "id": "b93caccc",
   "metadata": {},
   "source": [
    "# Cálculos"
   ]
  },
  {
   "attachments": {},
   "cell_type": "markdown",
   "id": "394ec5a7",
   "metadata": {},
   "source": [
    "## Determinación dataframe de precios"
   ]
  },
  {
   "attachments": {},
   "cell_type": "markdown",
   "id": "db13d6a8",
   "metadata": {},
   "source": [
    "### Primera columna del dataframe \n",
    "¿Por qué es diferente al resto? Porque a partir de ella se determina la columna de índice"
   ]
  },
  {
   "attachments": {},
   "cell_type": "markdown",
   "id": "a1fd1554",
   "metadata": {},
   "source": [
    "#### 1 de 2: Leer datos desde el primer año considerado"
   ]
  },
  {
   "cell_type": "code",
   "execution_count": null,
   "id": "9926cb13",
   "metadata": {},
   "outputs": [],
   "source": [
    "# Primera columna del dataframe de salida\n",
    "inicio = datetime(AGNOINICIALCALCULOS, mesDesde, diaDesde, horaDesde, minutoDesde)       \n",
    "hasta  = inicio + timedelta(hours=horasAdelante)\n",
    "\n",
    "print(\"inicio: \" + str(inicio) + \" - hasta: \" + str(hasta))\n",
    "\n",
    "a =  BajadaDatosESIOS(id_SFP)\n",
    "df = a.dataframe_lista_de_indicadores_de_esios_por_fechas([10211], inicio, hasta, time_trunc=time_trunc,\n",
    "                                                         inlcuye29DeFebrero = '').filter(['value'], axis=1)\n",
    "\n",
    "df = df.rename(columns={'value': AGNOINICIALCALCULOS})\n",
    "df"
   ]
  },
  {
   "cell_type": "code",
   "execution_count": null,
   "id": "5a8d3cec",
   "metadata": {},
   "outputs": [],
   "source": [
    "### 2 de 2: Cambiamos el año del indice, desde el primer año de la serie histórica al año acutal\n",
    "df.index = df.index + pd.offsets.DateOffset(years=agnoActual - AGNOINICIALCALCULOS)\n",
    "df"
   ]
  },
  {
   "attachments": {},
   "cell_type": "markdown",
   "id": "28dca77d",
   "metadata": {},
   "source": [
    "### Determinación del resto de columnas del dataframe"
   ]
  },
  {
   "cell_type": "code",
   "execution_count": null,
   "id": "255d1c3e",
   "metadata": {},
   "outputs": [],
   "source": [
    "for agno in range(AGNOINICIALCALCULOS + 1, agnoActual):\n",
    "    inicio = datetime(agno, mesDesde, diaDesde, horaDesde, minutoDesde)      # desde comienzo del día\n",
    "    hasta  = inicio + timedelta(hours=horasAdelante)\n",
    "    aux = a.dataframe_lista_de_indicadores_de_esios_por_fechas([10211], inicio, hasta, \n",
    "                                                        time_trunc=time_trunc, inlcuye29DeFebrero = '') \n",
    "    df[agno] = list(aux['value'])"
   ]
  },
  {
   "cell_type": "code",
   "execution_count": null,
   "id": "703cb013",
   "metadata": {},
   "outputs": [],
   "source": [
    "df"
   ]
  },
  {
   "attachments": {},
   "cell_type": "markdown",
   "id": "2db12964",
   "metadata": {},
   "source": [
    "### Correción de precios por IPC"
   ]
  },
  {
   "cell_type": "code",
   "execution_count": null,
   "id": "e0c2884c",
   "metadata": {},
   "outputs": [],
   "source": [
    "dicionarioCorreccionIPC = zsan.calculaCorrecionDePreciosPorIPC(diccionarioAgnoIPC)\n",
    "dicionarioCorreccionIPC"
   ]
  },
  {
   "cell_type": "code",
   "execution_count": null,
   "id": "86a6c545",
   "metadata": {},
   "outputs": [],
   "source": [
    "# Con los objetos que estamos manejando, la operación es trivial\n",
    "for elemento in df.columns:\n",
    "    df[elemento] = df[elemento] * dicionarioCorreccionIPC[elemento]\n",
    "df"
   ]
  },
  {
   "attachments": {},
   "cell_type": "markdown",
   "id": "22108700",
   "metadata": {},
   "source": [
    "### Resampleo\n",
    "Asumimos que la frecuencia original está en horas y se desea otro ***sample rate***"
   ]
  },
  {
   "cell_type": "code",
   "execution_count": null,
   "id": "4b5a99ad",
   "metadata": {},
   "outputs": [],
   "source": [
    "print('DataFrame se resamplea a ', frecuenciaSampleoMinutos, ' minutos')\n",
    "df = zsan.resampleaDataFrame(df, frecuenciaSampleoMinutos, method='polynomial', order=ordenSpline)"
   ]
  },
  {
   "cell_type": "code",
   "execution_count": null,
   "id": "e599cbdb",
   "metadata": {},
   "outputs": [],
   "source": [
    "df.head()"
   ]
  },
  {
   "cell_type": "code",
   "execution_count": null,
   "id": "4f2be10c",
   "metadata": {},
   "outputs": [],
   "source": []
  }
 ],
 "metadata": {
  "kernelspec": {
   "display_name": "Python 3 (ipykernel)",
   "language": "python",
   "name": "python3"
  },
  "language_info": {
   "codemirror_mode": {
    "name": "ipython",
    "version": 3
   },
   "file_extension": ".py",
   "mimetype": "text/x-python",
   "name": "python",
   "nbconvert_exporter": "python",
   "pygments_lexer": "ipython3",
   "version": "3.9.6"
  },
  "toc": {
   "base_numbering": 1,
   "nav_menu": {},
   "number_sections": true,
   "sideBar": true,
   "skip_h1_title": false,
   "title_cell": "Table of Contents",
   "title_sidebar": "Contents",
   "toc_cell": false,
   "toc_position": {
    "height": "calc(100% - 180px)",
    "left": "10px",
    "top": "150px",
    "width": "165px"
   },
   "toc_section_display": true,
   "toc_window_display": true
  },
  "varInspector": {
   "cols": {
    "lenName": 16,
    "lenType": 16,
    "lenVar": 40
   },
   "kernels_config": {
    "python": {
     "delete_cmd_postfix": "",
     "delete_cmd_prefix": "del ",
     "library": "var_list.py",
     "varRefreshCmd": "print(var_dic_list())"
    },
    "r": {
     "delete_cmd_postfix": ") ",
     "delete_cmd_prefix": "rm(",
     "library": "var_list.r",
     "varRefreshCmd": "cat(var_dic_list()) "
    }
   },
   "types_to_exclude": [
    "module",
    "function",
    "builtin_function_or_method",
    "instance",
    "_Feature"
   ],
   "window_display": false
  }
 },
 "nbformat": 4,
 "nbformat_minor": 5
}
